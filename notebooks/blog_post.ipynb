{
 "cells": [
  {
   "cell_type": "code",
   "execution_count": null,
   "metadata": {},
   "outputs": [],
   "source": [
    "import openai\n",
    "from pydantic import BaseModel, Field, Sequence\n",
    "import datetime\n",
    "import os\n",
    "\n",
    "openai.api_key = os.getenv(\"OPENAI_API_KEY\")"
   ]
  },
  {
   "cell_type": "code",
   "execution_count": null,
   "metadata": {},
   "outputs": [],
   "source": [
    "def generate_blog_post(title: str, style: str = \"informative\", word_count: int = 600) -> dict:\n",
    "    # Craft the prompt based on the parameters\n",
    "    prompt = f\"Write a {word_count}-word, {style} blog post titled '{title}':\"\n",
    "\n",
    "    # Calculate the number of tokens approximately needed (assuming 4 tokens per word)\n",
    "    max_tokens = int(word_count * 4)\n",
    "\n",
    "    # Generate the blog post content using OpenAI's GPT-4\n",
    "    response = openai.Completion.create(\n",
    "        model=\"text-davinci-003\",  # Replace with the appropriate GPT-4 model once available\n",
    "        prompt=prompt,\n",
    "        max_tokens=max_tokens,\n",
    "        temperature=0.7,\n",
    "        top_p=1,\n",
    "        frequency_penalty=0,\n",
    "        presence_penalty=0\n",
    "    )\n",
    "\n",
    "    # Structure the output\n",
    "    blog_post = {\n",
    "        \"title\": title,\n",
    "        \"content\": response.choices[0].text.strip()\n",
    "    }\n",
    "\n",
    "    return blog_post\n",
    "\n",
    "def main():\n",
    "    # Define the parameters for the blog post you want to generate\n",
    "    title = \"The Impact of Artificial Intelligence on Everyday Life\"\n",
    "    style = \"informative\"\n",
    "    word_count = 600\n",
    "\n",
    "    # Generate the blog post\n",
    "    blog_post = generate_blog_post(title, style, word_count)\n",
    "    print(f\"Title: {blog_post['title']}\\nContent: {blog_post['content']}\")\n",
    "\n",
    "if __name__ == \"__main__\":\n",
    "    main()\n"
   ]
  },
  {
   "cell_type": "code",
   "execution_count": null,
   "metadata": {},
   "outputs": [],
   "source": []
  }
 ],
 "metadata": {
  "kernelspec": {
   "display_name": ".venv",
   "language": "python",
   "name": "python3"
  },
  "language_info": {
   "codemirror_mode": {
    "name": "ipython",
    "version": 3
   },
   "file_extension": ".py",
   "mimetype": "text/x-python",
   "name": "python",
   "nbconvert_exporter": "python",
   "pygments_lexer": "ipython3",
   "version": "3.12.0"
  }
 },
 "nbformat": 4,
 "nbformat_minor": 2
}
