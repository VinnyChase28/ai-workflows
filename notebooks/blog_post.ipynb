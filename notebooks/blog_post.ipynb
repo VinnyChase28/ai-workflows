{
 "cells": [
  {
   "cell_type": "code",
   "execution_count": 46,
   "metadata": {},
   "outputs": [],
   "source": [
    "import os\n",
    "from openai import OpenAI\n",
    "import json\n",
    "from typing import TypedDict, List, Dict\n",
    "\n",
    "client = OpenAI(\n",
    "    api_key=os.environ['OPENAI_API_KEY'],\n",
    ")"
   ]
  },
  {
   "cell_type": "code",
   "execution_count": 47,
   "metadata": {},
   "outputs": [],
   "source": [
    "class Section(TypedDict):\n",
    "    heading: str\n",
    "    content: str\n",
    "\n",
    "class BlogPost(TypedDict):\n",
    "    topic: str\n",
    "    headline: str\n",
    "    introduction: str\n",
    "    sections: List[Section]\n",
    "    conclusion: str\n",
    "    call_to_action: str"
   ]
  },
  {
   "cell_type": "code",
   "execution_count": 52,
   "metadata": {},
   "outputs": [
    {
     "name": "stdout",
     "output_type": "stream",
     "text": [
      "{\n",
      "    \"topic\": \"The Integration of AI Technologies into Daily Tasks\",\n",
      "    \"headline\": \"Exploring the Impact of AI on Daily Tasks in Society\",\n",
      "    \"introduction\": \"Artificial Intelligence (AI) technologies have become increasingly integrated into our daily tasks, revolutionizing the way we work, communicate, and live. In this blog post, we will delve into the effects of AI on society and how it has transformed various aspects of our lives.\",\n",
      "    \"sections\": [\n",
      "        {\n",
      "            \"heading\": \"The Role of AI in Daily Tasks\",\n",
      "            \"content\": \"AI technologies have made significant advancements in automating routine tasks, such as scheduling appointments, managing emails, and even driving cars. These innovations have not only increased efficiency but have also raised concerns about the impact on the job market and privacy.\"\n",
      "        },\n",
      "        {\n",
      "            \"heading\": \"Ethical Considerations of AI Integration\",\n",
      "            \"content\": \"As AI becomes more prevalent in our daily lives, ethical considerations surrounding data privacy, bias in algorithms, and the potential for job displacement have come to the forefront. It is crucial for society to address these issues and ensure that AI technologies are developed and used responsibly.\"\n",
      "        },\n",
      "        {\n",
      "            \"heading\": \"The Future of AI in Society\",\n",
      "            \"content\": \"Looking ahead, AI is poised to continue transforming daily tasks and society as a whole. From personalized recommendations to predictive analytics, the possibilities are endless. It is essential for individuals and organizations to adapt to these changes and harness the potential of AI for the greater good.\"\n",
      "        }\n",
      "    ],\n",
      "    \"conclusion\": \"In conclusion, the integration of AI technologies into daily tasks has had a profound impact on society, reshaping the way we work, communicate, and interact with the world around us. As we navigate this rapidly evolving landscape, it is important to consider the ethical implications and ensure that AI is used responsibly for the benefit of all.\",\n",
      "    \"call_to_action\": \"To learn more about the role of AI in daily tasks and society, stay informed and engage in discussions on the ethical implications of AI integration. Embrace the opportunities that AI presents while advocating for responsible development and usage.\"\n",
      "}\n"
     ]
    }
   ],
   "source": [
    "def generate_blog_post(topic: str, context: str, style: str = \"informative\", word_count: int = 600, audience: str = \"general public\", tone: str = \"neutral\") -> BlogPost:\n",
    "    # Craft a detailed prompt based on the parameters\n",
    "    prompt = (\n",
    "        f\"Topic: {topic}\\n\"\n",
    "        f\"Context: {context}\\n\"\n",
    "        f\"Audience: {audience}\\n\"\n",
    "        f\"Tone: {tone}\\n\"\n",
    "        f\"Style: {style}\\n\"\n",
    "\n",
    "        \"Based on the information above, generate a title and a {style} blog post that is approximately {word_count} words long. Ensure the content is tailored for the {audience} audience, maintains a {tone} tone, and covers the topic and context provided. There should be no more than 3 sections. Provide me the output in JSON format with the following structure: \"\n",
    "        \n",
    "        \"{\\\"topic\\\": \\\"<Your Topic Here>\\\", \\\"headline\\\": \\\"<Your Headline Here>\\\", \\\"introduction\\\": \\\"<Your Introduction Here>\\\", \\\"sections\\\": [{\\\"heading\\\": \\\"Start With the Right Blog Post Topic\\\", \\\"content\\\": \\\"<Content Here>\\\"}, {\\\"heading\\\": \\\"Create a Descriptive and Compelling Headline\\\", \\\"content\\\": \\\"<Content Here>\\\"}, {\\\"heading\\\": \\\"Write a Clear and Concise Introduction\\\", \\\"content\\\": \\\"<Content Here>\\\"}, {\\\"heading\\\": \\\"Break Up Content with Headings\\\", \\\"content\\\": \\\"<Content Here>\\\"}, {\\\"heading\\\": \\\"Keep Paragraphs and Sentences Short\\\", \\\"content\\\": \\\"<Content Here>\\\"}, {\\\"heading\\\": \\\"Add Images, Video, and Other Media\\\", \\\"content\\\": \\\"<Content Here>\\\"}, {\\\"heading\\\": \\\"Wrap Up Blog Posts With a Conclusion\\\", \\\"content\\\": \\\"<Content Here>\\\"}, {\\\"heading\\\": \\\"End With a Compelling Call To Action (CTA)\\\", \\\"content\\\": \\\"<Content Here>\\\"}], \\\"conclusion\\\": \\\"<Your Conclusion Here>\\\", \\\"call_to_action\\\": \\\"<Your Call to Action Here>\\\"}. All text within the title and content should have proper markdown formatting.\"\n",
    "    )\n",
    "\n",
    "    # Calculate the number of tokens approximately needed (assuming 4 tokens per word for the content plus additional tokens for the prompt)\n",
    "    max_tokens = int(word_count * 4) + len(prompt.split())\n",
    "\n",
    "    # Generate the blog post content using OpenAI's GPT-4\n",
    "    chat_completion = client.chat.completions.create(\n",
    "        messages=[\n",
    "            {\n",
    "                \"role\": \"user\",\n",
    "                \"content\": prompt,\n",
    "            }\n",
    "        ],\n",
    "        model=\"gpt-3.5-turbo\",\n",
    "        max_tokens=max_tokens, \n",
    "        temperature=0,\n",
    "    )\n",
    "\n",
    "    # Assuming the model generates the title and content separated by a newline, split them accordingly\n",
    "    generated_output: str = chat_completion.choices[0].message.content # type: ignore\n",
    "    json_output = json.loads(generated_output)\n",
    "\n",
    "    blog_object: BlogPost = {\n",
    "    \"topic\": json_output[\"topic\"],\n",
    "    \"headline\": json_output[\"headline\"],\n",
    "    \"introduction\": json_output[\"introduction\"],\n",
    "    \"sections\": json_output[\"sections\"],\n",
    "    \"conclusion\": json_output[\"conclusion\"],\n",
    "    \"call_to_action\": json_output[\"call_to_action\"]\n",
    "}\n",
    "\n",
    "\n",
    "    return blog_object\n",
    "\n",
    "\n",
    "def main():\n",
    "    topic = \"How much wood could a woodchuck chuck?\"\n",
    "    context = \"Explore how AI technologies are integrated into daily tasks and their effects on society.\"\n",
    "    style = \"informative\"  # Options: \"persuasive\", \"narrative\", \"descriptive\", \"informative\"\n",
    "    word_count = 750\n",
    "    audience = \"general public\"  # Options might include \"general public\", \"professionals\", \"students\", etc.\n",
    "    tone = \"neutral\"  # Options could be \"formal\", \"casual\", \"optimistic\", \"serious\", etc.\n",
    "\n",
    "    # Generate the blog post\n",
    "    blog_post = generate_blog_post(topic, context, style, word_count, audience, tone)\n",
    "    print(json.dumps(blog_post, indent=4))\n",
    "    return blog_post\n",
    "    \n",
    "\n",
    "if __name__ == \"__main__\":\n",
    "    main()\n"
   ]
  },
  {
   "cell_type": "code",
   "execution_count": null,
   "metadata": {},
   "outputs": [],
   "source": []
  }
 ],
 "metadata": {
  "kernelspec": {
   "display_name": ".venv",
   "language": "python",
   "name": "python3"
  },
  "language_info": {
   "codemirror_mode": {
    "name": "ipython",
    "version": 3
   },
   "file_extension": ".py",
   "mimetype": "text/x-python",
   "name": "python",
   "nbconvert_exporter": "python",
   "pygments_lexer": "ipython3",
   "version": "3.12.2"
  }
 },
 "nbformat": 4,
 "nbformat_minor": 2
}
