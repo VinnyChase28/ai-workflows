{
 "cells": [
  {
   "cell_type": "code",
   "execution_count": null,
   "metadata": {},
   "outputs": [],
   "source": [
    "import os\n",
    "from openai import OpenAI\n",
    "import json\n",
    "\n",
    "client = OpenAI(\n",
    "    api_key=os.environ['OPENAI_API_KEY'],\n",
    ")"
   ]
  },
  {
   "cell_type": "code",
   "execution_count": 41,
   "metadata": {},
   "outputs": [
    {
     "name": "stdout",
     "output_type": "stream",
     "text": [
      "{'title': 'The Role of AI in Modern Society', 'content': \"Artificial intelligence (AI) has revolutionized the way we live, work, and interact with the world around us. From virtual assistants like Siri and Alexa to self-driving cars and personalized recommendations on streaming platforms, AI technologies have become an essential part of our daily tasks. But how exactly are these technologies integrated into our lives, and what are their effects on society? Let's explore. \\n\\nOne of the most common uses of AI in daily tasks is through virtual assistants. These AI-powered tools can help us with a wide range of tasks, from setting reminders and alarms to answering questions and providing recommendations. By analyzing our interactions and preferences, virtual assistants can learn and adapt to better serve our needs over time. This level of personalization and convenience has made virtual assistants a staple in many households, simplifying our daily routines and enhancing productivity. \\n\\nAI technologies are also prevalent in the transportation industry, particularly with the development of self-driving cars. These vehicles use AI algorithms to navigate roads, detect obstacles, and make split-second decisions to ensure passenger safety. While self-driving cars have the potential to reduce accidents and improve traffic flow, they also raise ethical and regulatory concerns that society must address. \\n\\nIn the realm of entertainment, AI algorithms are used to analyze user data and provide personalized recommendations on streaming platforms like Netflix and Spotify. By understanding our viewing and listening habits, these algorithms can suggest content that aligns with our preferences, leading to a more enjoyable and tailored experience. However, this level of personalization also raises concerns about privacy and data security, as AI technologies collect and analyze vast amounts of personal information. \\n\\nBeyond these examples, AI technologies are integrated into various industries and sectors, from healthcare and finance to retail and manufacturing. These technologies have the potential to streamline processes, improve decision-making, and enhance customer experiences. However, they also pose challenges related to job displacement, algorithmic bias, and ethical considerations that society must navigate. \\n\\nOverall, the integration of AI technologies into daily tasks has had a profound impact on society, shaping how we live, work, and interact with the world around us. While these technologies offer numerous benefits in terms of convenience, efficiency, and personalization, they also raise important questions about privacy, ethics, and societal implications. As AI continues to advance and become more pervasive, it is crucial for individuals, organizations, and policymakers to consider the implications and ensure that these technologies are used responsibly and ethically. By understanding the role of AI in modern society and actively engaging in discussions about its impact, we can harness the potential of these technologies while mitigating potential risks and challenges.\"}\n"
     ]
    }
   ],
   "source": [
    "def generate_blog_post(topic: str, context: str, style: str = \"informative\", word_count: int = 600, audience: str = \"general public\", tone: str = \"neutral\"):\n",
    "    # Craft a detailed prompt based on the parameters\n",
    "    prompt = (\n",
    "        f\"Topic: {topic}\\n\"\n",
    "        f\"Context: {context}\\n\"\n",
    "        f\"Audience: {audience}\\n\"\n",
    "        f\"Tone: {tone}\\n\"\n",
    "        f\"Style: {style}\\n\"\n",
    "        f\"Length: {word_count} words\\n\\n\"\n",
    "\n",
    "        \"Based on the information above, generate a title and a {style} blog post that is approximately {word_count} words long. Ensure the content is tailored for the {audience} audience, maintains a {tone} tone, and covers the topic and context provided. Provide me the output in JSON format. all text should have proper markdown formatting. Example: {\\\"title\\\": \\\"The Impact of Artificial Intelligence on Everyday Life\\\", \\\"content\\\": \\\"Artificial intelligence (AI) has become an integral part of our daily lives...\\\"}\\n\\n\"\n",
    "        \n",
    "    )\n",
    "\n",
    "    # Calculate the number of tokens approximately needed (assuming 4 tokens per word for the content plus additional tokens for the prompt)\n",
    "    max_tokens = int(word_count * 4) + len(prompt.split())\n",
    "\n",
    "    # Generate the blog post content using OpenAI's GPT-4\n",
    "    chat_completion = client.chat.completions.create(\n",
    "        messages=[\n",
    "            {\n",
    "                \"role\": \"user\",\n",
    "                \"content\": prompt,\n",
    "            }\n",
    "        ],\n",
    "        model=\"gpt-3.5-turbo\",\n",
    "        max_tokens=max_tokens, \n",
    "        temperature=0,\n",
    "    )\n",
    "\n",
    "    # Assuming the model generates the title and content separated by a newline, split them accordingly\n",
    "    generated_output: str = chat_completion.choices[0].message.content # type: ignore\n",
    "    json_output = json.loads(generated_output)\n",
    "\n",
    "    blog_object = {\n",
    "        \"title\": json_output[\"title\"],\n",
    "        \"content\": json_output[\"content\"]\n",
    "    }\n",
    "\n",
    "    return blog_object\n",
    "\n",
    "\n",
    "def main():\n",
    "    topic = \"How much wood could a woodchuck chuck?\"\n",
    "    context = \"Explore how AI technologies are integrated into daily tasks and their effects on society.\"\n",
    "    style = \"informative\"  # Options: \"persuasive\", \"narrative\", \"descriptive\", \"informative\"\n",
    "    word_count = 600\n",
    "    audience = \"general public\"  # Options might include \"general public\", \"professionals\", \"students\", etc.\n",
    "    tone = \"neutral\"  # Options could be \"formal\", \"casual\", \"optimistic\", \"serious\", etc.\n",
    "\n",
    "    # Generate the blog post\n",
    "    blog_post = generate_blog_post(topic, context, style, word_count, audience, tone)\n",
    "    print(blog_post)\n",
    "    return blog_post\n",
    "    \n",
    "\n",
    "if __name__ == \"__main__\":\n",
    "    main()\n"
   ]
  },
  {
   "cell_type": "code",
   "execution_count": null,
   "metadata": {},
   "outputs": [],
   "source": []
  }
 ],
 "metadata": {
  "kernelspec": {
   "display_name": ".venv",
   "language": "python",
   "name": "python3"
  },
  "language_info": {
   "codemirror_mode": {
    "name": "ipython",
    "version": 3
   },
   "file_extension": ".py",
   "mimetype": "text/x-python",
   "name": "python",
   "nbconvert_exporter": "python",
   "pygments_lexer": "ipython3",
   "version": "3.12.2"
  }
 },
 "nbformat": 4,
 "nbformat_minor": 2
}
